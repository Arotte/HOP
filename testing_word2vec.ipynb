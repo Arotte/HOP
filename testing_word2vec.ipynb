{
 "cells": [
  {
   "cell_type": "code",
   "execution_count": 4,
   "metadata": {},
   "outputs": [
    {
     "name": "stderr",
     "output_type": "stream",
     "text": [
      "[nltk_data] Downloading package brown to\n",
      "[nltk_data]     C:\\Users\\thear\\AppData\\Roaming\\nltk_data...\n",
      "[nltk_data]   Package brown is already up-to-date!\n",
      "[nltk_data] Downloading package movie_reviews to\n",
      "[nltk_data]     C:\\Users\\thear\\AppData\\Roaming\\nltk_data...\n",
      "[nltk_data]   Unzipping corpora\\movie_reviews.zip.\n",
      "[nltk_data] Downloading package treebank to\n",
      "[nltk_data]     C:\\Users\\thear\\AppData\\Roaming\\nltk_data...\n",
      "[nltk_data]   Unzipping corpora\\treebank.zip.\n"
     ]
    },
    {
     "data": {
      "text/plain": [
       "True"
      ]
     },
     "execution_count": 4,
     "metadata": {},
     "output_type": "execute_result"
    }
   ],
   "source": [
    "import nltk\n",
    "nltk.download('brown')\n",
    "nltk.download('movie_reviews')\n",
    "nltk.download('treebank')"
   ]
  },
  {
   "cell_type": "code",
   "execution_count": 5,
   "metadata": {},
   "outputs": [],
   "source": [
    "from gensim.models import Word2Vec\n",
    "from nltk.corpus import brown, movie_reviews, treebank\n",
    "\n",
    "b = Word2Vec(brown.sents())\n",
    "mr = Word2Vec(movie_reviews.sents())\n",
    "t = Word2Vec(treebank.sents())  \n"
   ]
  },
  {
   "cell_type": "code",
   "execution_count": 10,
   "metadata": {},
   "outputs": [],
   "source": [
    "from scipy import spatial\n",
    "\n",
    "def cos_sim(a, b):\n",
    "    return 1 - spatial.distance.cosine(a, b)"
   ]
  },
  {
   "cell_type": "code",
   "execution_count": 7,
   "metadata": {},
   "outputs": [
    {
     "data": {
      "text/plain": [
       "[('care', 0.9046128988265991),\n",
       " ('job', 0.9023352861404419),\n",
       " ('trouble', 0.8821771144866943),\n",
       " ('chance', 0.8705190420150757),\n",
       " ('work', 0.8690202832221985)]"
      ]
     },
     "execution_count": 7,
     "metadata": {},
     "output_type": "execute_result"
    }
   ],
   "source": [
    "b.wv.most_similar('money', topn=5)"
   ]
  },
  {
   "cell_type": "code",
   "execution_count": 9,
   "metadata": {},
   "outputs": [
    {
     "data": {
      "text/plain": [
       "array([ 2.47572482e-01,  1.73325852e-01,  9.60428193e-02,  2.77121484e-01,\n",
       "       -2.67889351e-01,  1.93104953e-01,  3.65702212e-01,  2.08471920e-02,\n",
       "       -1.53808236e-01,  2.21199319e-01, -8.88434937e-04,  1.87115476e-01,\n",
       "        3.32277656e-01, -1.88893050e-01,  1.24777287e-01, -3.47033739e-01,\n",
       "        2.63383895e-01, -2.40546003e-01, -4.45952564e-01, -6.67620659e-01,\n",
       "        2.75201917e-01,  3.79576623e-01,  8.71884644e-01,  1.94495231e-01,\n",
       "       -5.07262647e-01, -1.84074014e-01, -2.81556726e-01, -4.72141206e-01,\n",
       "       -3.57550085e-01,  2.87580580e-01,  6.65676534e-01, -2.68015206e-01,\n",
       "        7.54078388e-01, -5.17833292e-01, -2.76602626e-01,  3.88769567e-01,\n",
       "       -5.96960366e-01, -5.39709449e-01, -4.14545059e-01, -5.37315488e-01,\n",
       "       -4.53530490e-01,  4.75503467e-02,  5.37689269e-01,  1.63652837e-01,\n",
       "        9.66870114e-02, -1.40857673e-03, -4.19611454e-01, -1.14854395e-01,\n",
       "       -5.61546460e-02,  4.94653910e-01, -3.62393609e-03, -2.41644233e-01,\n",
       "       -7.40561604e-01, -3.53743702e-01, -3.32623720e-01, -7.30454564e-01,\n",
       "        3.83639544e-01, -1.71767145e-01, -5.43310642e-01, -1.57317817e-01,\n",
       "        7.59634152e-02,  1.71203956e-01, -1.58588171e-01,  3.34694982e-01,\n",
       "       -9.60312858e-02,  4.70498055e-01,  4.90489095e-01,  1.89104319e-01,\n",
       "       -3.12310636e-01,  3.81481826e-01,  4.42718565e-01,  2.90188670e-01,\n",
       "        1.68903679e-01, -1.14248328e-01,  9.65622723e-01, -3.98445785e-01,\n",
       "        5.93595684e-01, -2.46446118e-01, -8.04767609e-02, -4.16159123e-01,\n",
       "       -4.17204887e-01, -1.51118994e-01, -7.52881467e-01,  3.32869589e-01,\n",
       "       -2.16076404e-01, -4.79349136e-01, -1.15628324e-01,  8.91724899e-02,\n",
       "        5.36554866e-02, -1.84309244e-01,  5.92805564e-01, -2.18880266e-01,\n",
       "       -2.84014344e-01,  1.49488717e-01,  3.45568091e-01,  2.28077084e-01,\n",
       "       -5.44298850e-02, -4.80013788e-01, -9.43266079e-02, -5.70597649e-01],\n",
       "      dtype=float32)"
      ]
     },
     "execution_count": 9,
     "metadata": {},
     "output_type": "execute_result"
    }
   ],
   "source": [
    "b.wv.get_vector('money')"
   ]
  },
  {
   "cell_type": "code",
   "execution_count": 13,
   "metadata": {},
   "outputs": [],
   "source": [
    "\n",
    "\n",
    "def get_vector(word, model):\n",
    "    try:\n",
    "        return model.wv.get_vector(word)\n",
    "    except KeyError:\n",
    "        return None"
   ]
  },
  {
   "cell_type": "code",
   "execution_count": 28,
   "metadata": {},
   "outputs": [
    {
     "name": "stdout",
     "output_type": "stream",
     "text": [
      "cat: 0.8477072715759277\n",
      "dog: 0.8702417612075806\n",
      "car: 0.6523482203483582\n",
      "concept: 0.9259973168373108\n",
      "leader: 0.9271132349967957\n",
      "abstract: 0.8334418535232544\n",
      "red: 0.7481658458709717\n",
      "black: 0.699487566947937\n",
      "green: 0.7933321595191956\n",
      "building: 0.8081108927726746\n",
      "knife: 0.8443745970726013\n",
      "love: 0.6252695918083191\n",
      "hate: 0.48324787616729736\n",
      "\n",
      "cat: 0.6654027104377747\n",
      "dog: 0.44587942957878113\n",
      "car: 0.325989693403244\n",
      "concept: 0.6545000672340393\n",
      "leader: 0.5816253423690796\n",
      "abstract: 0.8479495048522949\n",
      "red: 0.6271729469299316\n",
      "black: 0.4062155783176422\n",
      "green: 0.6718800067901611\n",
      "building: 0.6077225804328918\n",
      "knife: 0.7372605204582214\n",
      "love: 0.20117543637752533\n",
      "hate: 0.3543301820755005\n",
      "\n"
     ]
    }
   ],
   "source": [
    "models = [b, mr]\n",
    "\n",
    "# test cosine similarity\n",
    "word_phil = 'philosophy'\n",
    "\n",
    "words = ['cat', 'dog', 'car', 'concept', 'leader', 'abstract', 'red', 'black', 'green', 'building', 'knife', 'love', 'hate']\n",
    "\n",
    "for model in models:\n",
    "    word_phil_vec = get_vector(word_phil, model)\n",
    "    for word in words:\n",
    "        word_vec = get_vector(word, model)\n",
    "        if word_vec is not None:\n",
    "            print(f\"{word}: {cos_sim(word_phil_vec, word_vec)}\")\n",
    "        else:\n",
    "            print(f\"{word}: not in model\")\n",
    "\n",
    "    print()"
   ]
  },
  {
   "cell_type": "code",
   "execution_count": 30,
   "metadata": {},
   "outputs": [],
   "source": [
    "import gensim.downloader as api\n",
    "\n",
    "info = api.info()  # show info about available models/datasets\n",
    "glova_twitter_25 = api.load(\"glove-twitter-25\")  # download the model and return as object ready for use\n"
   ]
  },
  {
   "cell_type": "code",
   "execution_count": 31,
   "metadata": {},
   "outputs": [
    {
     "data": {
      "text/plain": [
       "[('dog', 0.9590820074081421),\n",
       " ('monkey', 0.920357882976532),\n",
       " ('bear', 0.9143136739730835),\n",
       " ('pet', 0.9108031392097473),\n",
       " ('girl', 0.8880629539489746),\n",
       " ('horse', 0.8872726559638977),\n",
       " ('kitty', 0.8870542049407959),\n",
       " ('puppy', 0.886769711971283),\n",
       " ('hot', 0.886525571346283),\n",
       " ('lady', 0.8845519423484802)]"
      ]
     },
     "execution_count": 31,
     "metadata": {},
     "output_type": "execute_result"
    }
   ],
   "source": [
    "glova_twitter_25.most_similar(\"cat\")"
   ]
  },
  {
   "cell_type": "code",
   "execution_count": 32,
   "metadata": {},
   "outputs": [
    {
     "data": {
      "text/plain": [
       "[('theology', 0.9399450421333313),\n",
       " ('economics', 0.9288970232009888),\n",
       " ('psychology', 0.9211457967758179),\n",
       " ('literature', 0.9075378179550171),\n",
       " ('studies', 0.8973936438560486),\n",
       " ('scientific', 0.8956649899482727),\n",
       " ('genetics', 0.8916589021682739),\n",
       " ('science', 0.8906575441360474),\n",
       " ('experiment', 0.8832055330276489),\n",
       " ('interpretation', 0.8832039833068848)]"
      ]
     },
     "execution_count": 32,
     "metadata": {},
     "output_type": "execute_result"
    }
   ],
   "source": [
    "glova_twitter_25.most_similar(\"philosophy\")"
   ]
  },
  {
   "cell_type": "code",
   "execution_count": 33,
   "metadata": {},
   "outputs": [
    {
     "name": "stdout",
     "output_type": "stream",
     "text": [
      "cat: 0.36085885763168335\n",
      "dog: 0.40500494837760925\n",
      "car: 0.32359978556632996\n",
      "concept: 0.5668193101882935\n",
      "leader: 0.5200600028038025\n",
      "abstract: 0.6215620040893555\n",
      "red: 0.2898100018501282\n",
      "black: 0.40249669551849365\n",
      "green: 0.45721474289894104\n",
      "building: 0.6451150178909302\n",
      "knife: 0.4499737620353699\n",
      "love: 0.3928339183330536\n",
      "hate: 0.47832855582237244\n"
     ]
    }
   ],
   "source": [
    "for word in words:\n",
    "    print(f\"{word}: {glova_twitter_25.similarity(word_phil, word)}\")"
   ]
  },
  {
   "cell_type": "code",
   "execution_count": null,
   "metadata": {},
   "outputs": [],
   "source": []
  }
 ],
 "metadata": {
  "kernelspec": {
   "display_name": "Python 3 (ipykernel)",
   "language": "python",
   "name": "python3"
  },
  "language_info": {
   "codemirror_mode": {
    "name": "ipython",
    "version": 3
   },
   "file_extension": ".py",
   "mimetype": "text/x-python",
   "name": "python",
   "nbconvert_exporter": "python",
   "pygments_lexer": "ipython3",
   "version": "3.10.7"
  },
  "orig_nbformat": 4
 },
 "nbformat": 4,
 "nbformat_minor": 2
}
