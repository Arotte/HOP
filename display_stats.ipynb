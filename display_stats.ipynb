{
 "cells": [
  {
   "cell_type": "code",
   "execution_count": 119,
   "metadata": {},
   "outputs": [],
   "source": [
    "import matplotlib.pyplot as plt\n",
    "import numpy as np\n",
    "import pandas as pd\n",
    "import seaborn as sns"
   ]
  },
  {
   "cell_type": "code",
   "execution_count": 120,
   "metadata": {},
   "outputs": [
    {
     "data": {
      "text/html": [
       "<div>\n",
       "<style scoped>\n",
       "    .dataframe tbody tr th:only-of-type {\n",
       "        vertical-align: middle;\n",
       "    }\n",
       "\n",
       "    .dataframe tbody tr th {\n",
       "        vertical-align: top;\n",
       "    }\n",
       "\n",
       "    .dataframe thead th {\n",
       "        text-align: right;\n",
       "    }\n",
       "</style>\n",
       "<table border=\"1\" class=\"dataframe\">\n",
       "  <thead>\n",
       "    <tr style=\"text-align: right;\">\n",
       "      <th></th>\n",
       "      <th>start_article_title</th>\n",
       "      <th>starter_article_url</th>\n",
       "      <th>selection_strat</th>\n",
       "      <th>hops_to_phil</th>\n",
       "    </tr>\n",
       "  </thead>\n",
       "  <tbody>\n",
       "    <tr>\n",
       "      <th>0</th>\n",
       "      <td>Bill Moore (pitcher)</td>\n",
       "      <td>https://en.wikipedia.org/wiki/Bill_Moore_(pitc...</td>\n",
       "      <td>EMBEDDING_WORD2VEC</td>\n",
       "      <td>8</td>\n",
       "    </tr>\n",
       "    <tr>\n",
       "      <th>1</th>\n",
       "      <td>Manuel Silva (basketball)</td>\n",
       "      <td>https://en.wikipedia.org/wiki/Manuel_Silva_(ba...</td>\n",
       "      <td>WORDNET</td>\n",
       "      <td>6</td>\n",
       "    </tr>\n",
       "    <tr>\n",
       "      <th>2</th>\n",
       "      <td>Jeanne d'Ussel</td>\n",
       "      <td>https://en.wikipedia.org/wiki/Jeanne_d%27Ussel</td>\n",
       "      <td>EMBEDDING_WORD2VEC</td>\n",
       "      <td>6</td>\n",
       "    </tr>\n",
       "    <tr>\n",
       "      <th>3</th>\n",
       "      <td>Various Artists – Archives Vol. 4</td>\n",
       "      <td>https://en.wikipedia.org/wiki/Various_Artists_...</td>\n",
       "      <td>WORDNET</td>\n",
       "      <td>12</td>\n",
       "    </tr>\n",
       "    <tr>\n",
       "      <th>4</th>\n",
       "      <td>Marcus Aurelius Marius</td>\n",
       "      <td>https://en.wikipedia.org/wiki/Marcus_Aurelius_...</td>\n",
       "      <td>WORDNET</td>\n",
       "      <td>5</td>\n",
       "    </tr>\n",
       "  </tbody>\n",
       "</table>\n",
       "</div>"
      ],
      "text/plain": [
       "                 start_article_title  \\\n",
       "0               Bill Moore (pitcher)   \n",
       "1          Manuel Silva (basketball)   \n",
       "2                     Jeanne d'Ussel   \n",
       "3  Various Artists – Archives Vol. 4   \n",
       "4             Marcus Aurelius Marius   \n",
       "\n",
       "                                 starter_article_url     selection_strat  \\\n",
       "0  https://en.wikipedia.org/wiki/Bill_Moore_(pitc...  EMBEDDING_WORD2VEC   \n",
       "1  https://en.wikipedia.org/wiki/Manuel_Silva_(ba...             WORDNET   \n",
       "2     https://en.wikipedia.org/wiki/Jeanne_d%27Ussel  EMBEDDING_WORD2VEC   \n",
       "3  https://en.wikipedia.org/wiki/Various_Artists_...             WORDNET   \n",
       "4  https://en.wikipedia.org/wiki/Marcus_Aurelius_...             WORDNET   \n",
       "\n",
       "   hops_to_phil  \n",
       "0             8  \n",
       "1             6  \n",
       "2             6  \n",
       "3            12  \n",
       "4             5  "
      ]
     },
     "execution_count": 120,
     "metadata": {},
     "output_type": "execute_result"
    }
   ],
   "source": [
    "df = pd.read_csv('hop_stats.csv', skip_blank_lines=True)\n",
    "df_all = pd.read_csv('hop_stats_all_vocab.csv', skip_blank_lines=True)\n",
    "\n",
    "df_all.head()"
   ]
  },
  {
   "cell_type": "code",
   "execution_count": 121,
   "metadata": {},
   "outputs": [
    {
     "name": "stdout",
     "output_type": "stream",
     "text": [
      "       hops_to_phil\n",
      "count    873.000000\n",
      "mean      12.100802\n",
      "std        9.101437\n",
      "min        1.000000\n",
      "25%        7.000000\n",
      "50%        9.000000\n",
      "75%       17.000000\n",
      "max      100.000000\n",
      "       hops_to_phil\n",
      "count   1272.000000\n",
      "mean      16.867925\n",
      "std       13.422383\n",
      "min        2.000000\n",
      "25%        7.000000\n",
      "50%       11.000000\n",
      "75%       22.000000\n",
      "max       51.000000\n"
     ]
    }
   ],
   "source": [
    "print(df.describe())\n",
    "print(df_all.describe())"
   ]
  },
  {
   "cell_type": "code",
   "execution_count": 122,
   "metadata": {},
   "outputs": [],
   "source": [
    "# display mean and std for each selection strategy\n",
    "\n",
    "def get_hop_stats(df_in, strats):\n",
    "    df_stats = pd.DataFrame(columns=['selection', 'mean', 'std', 'count'])\n",
    "    for s in strats:\n",
    "        df_sel = df_in[df_in['selection_strat'] == s]\n",
    "        df_stats = pd.concat([\n",
    "            df_stats, \n",
    "            pd.DataFrame([\n",
    "                [\n",
    "                    s, \n",
    "                    df_sel['hops_to_phil'].mean(), \n",
    "                    df_sel['hops_to_phil'].std(), \n",
    "                    df_sel['hops_to_phil'].count()\n",
    "                ]\n",
    "            ],\n",
    "            columns=['selection', 'mean', 'std', 'count'])])\n",
    "\n",
    "    # order by mean\n",
    "    df_stats = df_stats.sort_values(by=['mean'])\n",
    "\n",
    "    return df_stats"
   ]
  },
  {
   "cell_type": "code",
   "execution_count": 123,
   "metadata": {},
   "outputs": [
    {
     "data": {
      "text/html": [
       "<div>\n",
       "<style scoped>\n",
       "    .dataframe tbody tr th:only-of-type {\n",
       "        vertical-align: middle;\n",
       "    }\n",
       "\n",
       "    .dataframe tbody tr th {\n",
       "        vertical-align: top;\n",
       "    }\n",
       "\n",
       "    .dataframe thead th {\n",
       "        text-align: right;\n",
       "    }\n",
       "</style>\n",
       "<table border=\"1\" class=\"dataframe\">\n",
       "  <thead>\n",
       "    <tr style=\"text-align: right;\">\n",
       "      <th></th>\n",
       "      <th>selection</th>\n",
       "      <th>mean</th>\n",
       "      <th>std</th>\n",
       "      <th>count</th>\n",
       "    </tr>\n",
       "  </thead>\n",
       "  <tbody>\n",
       "    <tr>\n",
       "      <th>0</th>\n",
       "      <td>EMBEDDING_WORD2VEC</td>\n",
       "      <td>7.278351</td>\n",
       "      <td>2.729440</td>\n",
       "      <td>291</td>\n",
       "    </tr>\n",
       "    <tr>\n",
       "      <th>0</th>\n",
       "      <td>WORDNET</td>\n",
       "      <td>8.061856</td>\n",
       "      <td>3.154027</td>\n",
       "      <td>291</td>\n",
       "    </tr>\n",
       "    <tr>\n",
       "      <th>0</th>\n",
       "      <td>NTH_LINK(1)</td>\n",
       "      <td>20.138889</td>\n",
       "      <td>6.955920</td>\n",
       "      <td>288</td>\n",
       "    </tr>\n",
       "    <tr>\n",
       "      <th>0</th>\n",
       "      <td>RANDOM</td>\n",
       "      <td>100.000000</td>\n",
       "      <td>0.000000</td>\n",
       "      <td>3</td>\n",
       "    </tr>\n",
       "  </tbody>\n",
       "</table>\n",
       "</div>"
      ],
      "text/plain": [
       "            selection        mean       std count\n",
       "0  EMBEDDING_WORD2VEC    7.278351  2.729440   291\n",
       "0             WORDNET    8.061856  3.154027   291\n",
       "0         NTH_LINK(1)   20.138889  6.955920   288\n",
       "0              RANDOM  100.000000  0.000000     3"
      ]
     },
     "execution_count": 123,
     "metadata": {},
     "output_type": "execute_result"
    }
   ],
   "source": [
    "get_hop_stats(df, df['selection_strat'].unique())"
   ]
  },
  {
   "cell_type": "code",
   "execution_count": 124,
   "metadata": {},
   "outputs": [
    {
     "data": {
      "text/html": [
       "<div>\n",
       "<style scoped>\n",
       "    .dataframe tbody tr th:only-of-type {\n",
       "        vertical-align: middle;\n",
       "    }\n",
       "\n",
       "    .dataframe tbody tr th {\n",
       "        vertical-align: top;\n",
       "    }\n",
       "\n",
       "    .dataframe thead th {\n",
       "        text-align: right;\n",
       "    }\n",
       "</style>\n",
       "<table border=\"1\" class=\"dataframe\">\n",
       "  <thead>\n",
       "    <tr style=\"text-align: right;\">\n",
       "      <th></th>\n",
       "      <th>selection</th>\n",
       "      <th>mean</th>\n",
       "      <th>std</th>\n",
       "      <th>count</th>\n",
       "    </tr>\n",
       "  </thead>\n",
       "  <tbody>\n",
       "    <tr>\n",
       "      <th>0</th>\n",
       "      <td>EMBEDDING_WORD2VEC</td>\n",
       "      <td>7.249211</td>\n",
       "      <td>2.623719</td>\n",
       "      <td>317</td>\n",
       "    </tr>\n",
       "    <tr>\n",
       "      <th>0</th>\n",
       "      <td>WORDNET</td>\n",
       "      <td>7.705085</td>\n",
       "      <td>2.688690</td>\n",
       "      <td>295</td>\n",
       "    </tr>\n",
       "    <tr>\n",
       "      <th>0</th>\n",
       "      <td>EMBEDDING_BERT</td>\n",
       "      <td>9.118280</td>\n",
       "      <td>5.151719</td>\n",
       "      <td>93</td>\n",
       "    </tr>\n",
       "    <tr>\n",
       "      <th>0</th>\n",
       "      <td>NTH_LINK(1)</td>\n",
       "      <td>12.750000</td>\n",
       "      <td>3.774917</td>\n",
       "      <td>4</td>\n",
       "    </tr>\n",
       "    <tr>\n",
       "      <th>0</th>\n",
       "      <td>NTH_LINK(2)</td>\n",
       "      <td>28.394316</td>\n",
       "      <td>12.488462</td>\n",
       "      <td>563</td>\n",
       "    </tr>\n",
       "  </tbody>\n",
       "</table>\n",
       "</div>"
      ],
      "text/plain": [
       "            selection       mean        std count\n",
       "0  EMBEDDING_WORD2VEC   7.249211   2.623719   317\n",
       "0             WORDNET   7.705085   2.688690   295\n",
       "0      EMBEDDING_BERT   9.118280   5.151719    93\n",
       "0         NTH_LINK(1)  12.750000   3.774917     4\n",
       "0         NTH_LINK(2)  28.394316  12.488462   563"
      ]
     },
     "execution_count": 124,
     "metadata": {},
     "output_type": "execute_result"
    }
   ],
   "source": [
    "get_hop_stats(df_all, df_all['selection_strat'].unique())"
   ]
  },
  {
   "cell_type": "code",
   "execution_count": 125,
   "metadata": {},
   "outputs": [],
   "source": [
    "# plot boxplots for each selection strategy\n",
    "\n",
    "def boxplot(dataf):\n",
    "    sns.set(style=\"whitegrid\")\n",
    "    sns.boxplot(x=\"selection_strat\", y=\"hops_to_phil\", data=dataf)\n",
    "    # set x axis labels to be vertical\n",
    "    plt.xticks(rotation=90)\n",
    "    # rename x axis labels\n",
    "    plt.xlabel('Selection Strategy')\n",
    "    plt.ylabel('Hops to Phil')\n",
    "    plt.title('Hops to Phil for each Selection Strategy')\n",
    "    plt.show()\n",
    "\n"
   ]
  },
  {
   "cell_type": "code",
   "execution_count": 126,
   "metadata": {},
   "outputs": [
    {
     "data": {
      "image/png": "[encoded data removed]",
      "text/plain": [
       "<Figure size 640x480 with 1 Axes>"
      ]
     },
     "metadata": {},
     "output_type": "display_data"
    },
    {
     "data": {
      "image/png": "[encoded data removed]",
      "text/plain": [
       "<Figure size 640x480 with 1 Axes>"
      ]
     },
     "metadata": {},
     "output_type": "display_data"
    }
   ],
   "source": [
    "boxplot(df_all[df_all['selection_strat'] != 'NTH_LINK(2)'])\n",
    "boxplot(df[df['selection_strat'] != 'RANDOM'])"
   ]
  },
  {
   "cell_type": "code",
   "execution_count": null,
   "metadata": {},
   "outputs": [],
   "source": []
  }
 ],
 "metadata": {
  "kernelspec": {
   "display_name": "Python 3.10.8 64-bit",
   "language": "python",
   "name": "python3"
  },
  "language_info": {
   "codemirror_mode": {
    "name": "ipython",
    "version": 3
   },
   "file_extension": ".py",
   "mimetype": "text/x-python",
   "name": "python",
   "nbconvert_exporter": "python",
   "pygments_lexer": "ipython3",
   "version": "3.10.8"
  },
  "orig_nbformat": 4,
  "vscode": {
   "interpreter": {
    "hash": "1da29e1a4e18cd61541fcf11ff9b9d11b8704288242dd0e1ea73668712cce00e"
   }
  }
 },
 "nbformat": 4,
 "nbformat_minor": 2
}
